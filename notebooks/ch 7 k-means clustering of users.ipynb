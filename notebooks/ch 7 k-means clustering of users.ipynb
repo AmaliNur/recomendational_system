{
 "cells": [
  {
   "cell_type": "code",
   "execution_count": 3,
   "metadata": {},
   "outputs": [],
   "source": [
    "import seaborn as sns; sns.set(color_codes=True)\n",
    "import pandas as pd\n",
    "import matplotlib.pyplot as plt\n",
    "import numpy as np\n",
    "import math\n",
    "import random\n",
    "\n",
    "%matplotlib inline"
   ]
  },
  {
   "cell_type": "code",
   "execution_count": 4,
   "metadata": {},
   "outputs": [
    {
     "ename": "TypeError",
     "evalue": "lmplot() got an unexpected keyword argument 'size'",
     "output_type": "error",
     "traceback": [
      "\u001b[1;31m---------------------------------------------------------------------------\u001b[0m",
      "\u001b[1;31mTypeError\u001b[0m                                 Traceback (most recent call last)",
      "Cell \u001b[1;32mIn[4], line 20\u001b[0m\n\u001b[0;32m     16\u001b[0m data \u001b[38;5;241m=\u001b[39m [sara, dea, peter, mela, kim, helle, egle, vlad, jimmie]\n\u001b[0;32m     19\u001b[0m p \u001b[38;5;241m=\u001b[39m pd\u001b[38;5;241m.\u001b[39mDataFrame(columns\u001b[38;5;241m=\u001b[39m[\u001b[38;5;124m'\u001b[39m\u001b[38;5;124mpets\u001b[39m\u001b[38;5;124m'\u001b[39m, \u001b[38;5;124m'\u001b[39m\u001b[38;5;124mstar_wars\u001b[39m\u001b[38;5;124m'\u001b[39m], data\u001b[38;5;241m=\u001b[39m data)\n\u001b[1;32m---> 20\u001b[0m sns\u001b[38;5;241m.\u001b[39mlmplot(x\u001b[38;5;241m=\u001b[39m\u001b[38;5;124m'\u001b[39m\u001b[38;5;124mpets\u001b[39m\u001b[38;5;124m'\u001b[39m, y\u001b[38;5;241m=\u001b[39m\u001b[38;5;124m'\u001b[39m\u001b[38;5;124mstar_wars\u001b[39m\u001b[38;5;124m'\u001b[39m, data \u001b[38;5;241m=\u001b[39m p,fit_reg\u001b[38;5;241m=\u001b[39m\u001b[38;5;28;01mFalse\u001b[39;00m, size\u001b[38;5;241m=\u001b[39m\u001b[38;5;241m7.5\u001b[39m)\n",
      "\u001b[1;31mTypeError\u001b[0m: lmplot() got an unexpected keyword argument 'size'"
     ]
    }
   ],
   "source": [
    "#random.seed(42)\n",
    "random.seed(45)\n",
    "#random.seed(44)\n",
    "\n",
    "k = 3\n",
    "sara = [7,1]\n",
    "dea = [10,0]\n",
    "peter = [0, 6]\n",
    "mela = [1, 4]\n",
    "kim = [5,3]\n",
    "helle = [9,9]\n",
    "egle = [2,1]\n",
    "vlad = [4,4]\n",
    "jimmie = [6,8]\n",
    "\n",
    "data = [sara, dea, peter, mela, kim, helle, egle, vlad, jimmie]\n",
    "\n",
    "\n",
    "p = pd.DataFrame(columns=['pets', 'star_wars'], data= data)\n",
    "sns.lmplot(x='pets', y='star_wars', data = p,fit_reg=False, size=7.5)"
   ]
  },
  {
   "cell_type": "code",
   "execution_count": 5,
   "metadata": {},
   "outputs": [],
   "source": [
    "def distance(x,y):\n",
    "\n",
    "    dist = 0\n",
    "    for i in range(len(x)):\n",
    "        dist += math.pow((x[i] - y[i]), 2)\n",
    "    return math.sqrt(dist)"
   ]
  },
  {
   "cell_type": "code",
   "execution_count": 6,
   "metadata": {},
   "outputs": [],
   "source": [
    "def generate_centroids(k, data):    \n",
    "    return random.sample(data, k)"
   ]
  },
  {
   "cell_type": "code",
   "execution_count": 7,
   "metadata": {},
   "outputs": [],
   "source": [
    "def add_to_cluster(item, centroids):\n",
    "    return item, min(range(len(centroids)), \n",
    "                     key= lambda i: distance(item, centroids[i]) )"
   ]
  },
  {
   "cell_type": "code",
   "execution_count": 8,
   "metadata": {},
   "outputs": [
    {
     "data": {
      "text/plain": [
       "[8, 5]"
      ]
     },
     "execution_count": 8,
     "metadata": {},
     "output_type": "execute_result"
    }
   ],
   "source": [
    "def add_vector(i, j):\n",
    "    return [i[k] + j[k] for k in range(len(j))]\n",
    "\n",
    "add_vector(sara, mela)"
   ]
  },
  {
   "cell_type": "code",
   "execution_count": 9,
   "metadata": {},
   "outputs": [],
   "source": [
    "from functools import reduce\n",
    "\n",
    "def move_centroids(k, kim):\n",
    "    print(\"running\")\n",
    "    centroids = []\n",
    "    for cen in range(k):\n",
    "        centroid = []\n",
    "        \n",
    "        print(cen)\n",
    "        members = [i[0] for i in kim if i[1] == cen]\n",
    "        print(members)\n",
    "        if members:\n",
    "            centroid = [i/len(members) for i in reduce(add_vector, members)]\n",
    "            centroids.append(centroid)\n",
    "        \n",
    "    return centroids\n",
    "        \n",
    "\n",
    "#clusters = list(map(cluster, data))\n",
    "#[print(\"item {} = {}\".format(key[0], key[1])) for key in clusters]\n",
    "#move_centroids(2, clusters)"
   ]
  },
  {
   "cell_type": "code",
   "execution_count": 10,
   "metadata": {},
   "outputs": [],
   "source": [
    "def draw_iteration(centroids, iteration):\n",
    "        centroids_points = pd.DataFrame([[centroids[i][0],\n",
    "                                          centroids[i][1], \n",
    "                                          i] for i in range(len(centroids))],\n",
    "                                          columns=['pets', 'star_wars', 'cluster'])\n",
    "        centroids_points[\"cluster\"] = [\"{} centroid\".format(i) \n",
    "                                       for i in range(len(centroids))]\n",
    "        ds = pd.DataFrame(columns = ['pets', 'star_wars', 'cluster'], \n",
    "                          data= [[i[0][0], i[0][1], i[1]] for i in iteration])\n",
    "        full_ds = pd.concat([ds, centroids_points], ignore_index=True)\n",
    "\n",
    "        g = sns.FacetGrid(data=full_ds, size=5,\n",
    "                       hue=\"cluster\",\n",
    "                       hue_order=[0, 1, 2 , \"0 centroid\", \"1 centroid\", \"2 centroid\"],\n",
    "                       palette=[\"b\", \"r\", \"g\", \"b\", \"r\", \"g\"],\n",
    "                       hue_kws={\"s\": [20, 20, 20, 500, 500, 500],\n",
    "                          \"marker\": [\"o\", \"o\", \"o\", \"+\", \"+\", \"+\"]})\n",
    "        g.map(plt.scatter,'pets','star_wars', linewidth=1, edgecolor=\"w\")\n",
    "        g.add_legend()"
   ]
  },
  {
   "cell_type": "code",
   "execution_count": 11,
   "metadata": {},
   "outputs": [
    {
     "name": "stdout",
     "output_type": "stream",
     "text": [
      "centroid [5, 3]\n",
      "centroid [2, 1]\n",
      "centroid [1, 4]\n"
     ]
    },
    {
     "ename": "TypeError",
     "evalue": "FacetGrid.__init__() got an unexpected keyword argument 'size'",
     "output_type": "error",
     "traceback": [
      "\u001b[1;31m---------------------------------------------------------------------------\u001b[0m",
      "\u001b[1;31mTypeError\u001b[0m                                 Traceback (most recent call last)",
      "Cell \u001b[1;32mIn[11], line 33\u001b[0m\n\u001b[0;32m     29\u001b[0m         \u001b[38;5;66;03m# recalculate centroids\u001b[39;00m\n\u001b[0;32m     30\u001b[0m         centroids \u001b[38;5;241m=\u001b[39m move_centroids(k, iteration)\n\u001b[1;32m---> 33\u001b[0m k_means(k, data)\n",
      "Cell \u001b[1;32mIn[11], line 12\u001b[0m, in \u001b[0;36mk_means\u001b[1;34m(k, data)\u001b[0m\n\u001b[0;32m      9\u001b[0m \u001b[38;5;66;03m# appoint each point to a cluster\u001b[39;00m\n\u001b[0;32m     10\u001b[0m iteration \u001b[38;5;241m=\u001b[39m \u001b[38;5;28mlist\u001b[39m([add_to_cluster(item, centroids) \u001b[38;5;28;01mfor\u001b[39;00m item \u001b[38;5;129;01min\u001b[39;00m data])\n\u001b[1;32m---> 12\u001b[0m draw_iteration(centroids, iteration)\n\u001b[0;32m     14\u001b[0m new_weight \u001b[38;5;241m=\u001b[39m \u001b[38;5;241m0\u001b[39m\n\u001b[0;32m     16\u001b[0m \u001b[38;5;66;03m# calculate the distance between each item, and its centroid\u001b[39;00m\n",
      "Cell \u001b[1;32mIn[10], line 12\u001b[0m, in \u001b[0;36mdraw_iteration\u001b[1;34m(centroids, iteration)\u001b[0m\n\u001b[0;32m      8\u001b[0m ds \u001b[38;5;241m=\u001b[39m pd\u001b[38;5;241m.\u001b[39mDataFrame(columns \u001b[38;5;241m=\u001b[39m [\u001b[38;5;124m'\u001b[39m\u001b[38;5;124mpets\u001b[39m\u001b[38;5;124m'\u001b[39m, \u001b[38;5;124m'\u001b[39m\u001b[38;5;124mstar_wars\u001b[39m\u001b[38;5;124m'\u001b[39m, \u001b[38;5;124m'\u001b[39m\u001b[38;5;124mcluster\u001b[39m\u001b[38;5;124m'\u001b[39m], \n\u001b[0;32m      9\u001b[0m                   data\u001b[38;5;241m=\u001b[39m [[i[\u001b[38;5;241m0\u001b[39m][\u001b[38;5;241m0\u001b[39m], i[\u001b[38;5;241m0\u001b[39m][\u001b[38;5;241m1\u001b[39m], i[\u001b[38;5;241m1\u001b[39m]] \u001b[38;5;28;01mfor\u001b[39;00m i \u001b[38;5;129;01min\u001b[39;00m iteration])\n\u001b[0;32m     10\u001b[0m full_ds \u001b[38;5;241m=\u001b[39m pd\u001b[38;5;241m.\u001b[39mconcat([ds, centroids_points], ignore_index\u001b[38;5;241m=\u001b[39m\u001b[38;5;28;01mTrue\u001b[39;00m)\n\u001b[1;32m---> 12\u001b[0m g \u001b[38;5;241m=\u001b[39m sns\u001b[38;5;241m.\u001b[39mFacetGrid(data\u001b[38;5;241m=\u001b[39mfull_ds, size\u001b[38;5;241m=\u001b[39m\u001b[38;5;241m5\u001b[39m,\n\u001b[0;32m     13\u001b[0m                hue\u001b[38;5;241m=\u001b[39m\u001b[38;5;124m\"\u001b[39m\u001b[38;5;124mcluster\u001b[39m\u001b[38;5;124m\"\u001b[39m,\n\u001b[0;32m     14\u001b[0m                hue_order\u001b[38;5;241m=\u001b[39m[\u001b[38;5;241m0\u001b[39m, \u001b[38;5;241m1\u001b[39m, \u001b[38;5;241m2\u001b[39m , \u001b[38;5;124m\"\u001b[39m\u001b[38;5;124m0 centroid\u001b[39m\u001b[38;5;124m\"\u001b[39m, \u001b[38;5;124m\"\u001b[39m\u001b[38;5;124m1 centroid\u001b[39m\u001b[38;5;124m\"\u001b[39m, \u001b[38;5;124m\"\u001b[39m\u001b[38;5;124m2 centroid\u001b[39m\u001b[38;5;124m\"\u001b[39m],\n\u001b[0;32m     15\u001b[0m                palette\u001b[38;5;241m=\u001b[39m[\u001b[38;5;124m\"\u001b[39m\u001b[38;5;124mb\u001b[39m\u001b[38;5;124m\"\u001b[39m, \u001b[38;5;124m\"\u001b[39m\u001b[38;5;124mr\u001b[39m\u001b[38;5;124m\"\u001b[39m, \u001b[38;5;124m\"\u001b[39m\u001b[38;5;124mg\u001b[39m\u001b[38;5;124m\"\u001b[39m, \u001b[38;5;124m\"\u001b[39m\u001b[38;5;124mb\u001b[39m\u001b[38;5;124m\"\u001b[39m, \u001b[38;5;124m\"\u001b[39m\u001b[38;5;124mr\u001b[39m\u001b[38;5;124m\"\u001b[39m, \u001b[38;5;124m\"\u001b[39m\u001b[38;5;124mg\u001b[39m\u001b[38;5;124m\"\u001b[39m],\n\u001b[0;32m     16\u001b[0m                hue_kws\u001b[38;5;241m=\u001b[39m{\u001b[38;5;124m\"\u001b[39m\u001b[38;5;124ms\u001b[39m\u001b[38;5;124m\"\u001b[39m: [\u001b[38;5;241m20\u001b[39m, \u001b[38;5;241m20\u001b[39m, \u001b[38;5;241m20\u001b[39m, \u001b[38;5;241m500\u001b[39m, \u001b[38;5;241m500\u001b[39m, \u001b[38;5;241m500\u001b[39m],\n\u001b[0;32m     17\u001b[0m                   \u001b[38;5;124m\"\u001b[39m\u001b[38;5;124mmarker\u001b[39m\u001b[38;5;124m\"\u001b[39m: [\u001b[38;5;124m\"\u001b[39m\u001b[38;5;124mo\u001b[39m\u001b[38;5;124m\"\u001b[39m, \u001b[38;5;124m\"\u001b[39m\u001b[38;5;124mo\u001b[39m\u001b[38;5;124m\"\u001b[39m, \u001b[38;5;124m\"\u001b[39m\u001b[38;5;124mo\u001b[39m\u001b[38;5;124m\"\u001b[39m, \u001b[38;5;124m\"\u001b[39m\u001b[38;5;124m+\u001b[39m\u001b[38;5;124m\"\u001b[39m, \u001b[38;5;124m\"\u001b[39m\u001b[38;5;124m+\u001b[39m\u001b[38;5;124m\"\u001b[39m, \u001b[38;5;124m\"\u001b[39m\u001b[38;5;124m+\u001b[39m\u001b[38;5;124m\"\u001b[39m]})\n\u001b[0;32m     18\u001b[0m g\u001b[38;5;241m.\u001b[39mmap(plt\u001b[38;5;241m.\u001b[39mscatter,\u001b[38;5;124m'\u001b[39m\u001b[38;5;124mpets\u001b[39m\u001b[38;5;124m'\u001b[39m,\u001b[38;5;124m'\u001b[39m\u001b[38;5;124mstar_wars\u001b[39m\u001b[38;5;124m'\u001b[39m, linewidth\u001b[38;5;241m=\u001b[39m\u001b[38;5;241m1\u001b[39m, edgecolor\u001b[38;5;241m=\u001b[39m\u001b[38;5;124m\"\u001b[39m\u001b[38;5;124mw\u001b[39m\u001b[38;5;124m\"\u001b[39m)\n\u001b[0;32m     19\u001b[0m g\u001b[38;5;241m.\u001b[39madd_legend()\n",
      "\u001b[1;31mTypeError\u001b[0m: FacetGrid.__init__() got an unexpected keyword argument 'size'"
     ]
    }
   ],
   "source": [
    "def k_means(k, data):\n",
    "    best_weight = math.inf\n",
    "    \n",
    "    centroids = generate_centroids(k, data)\n",
    "    \n",
    "    while True:   \n",
    "       \n",
    "        [print(\"centroid {}\".format(c)) for c in centroids]\n",
    "        # appoint each point to a cluster\n",
    "        iteration = list([add_to_cluster(item, centroids) for item in data])\n",
    "        \n",
    "        draw_iteration(centroids, iteration)\n",
    "        \n",
    "        new_weight = 0\n",
    "        \n",
    "        # calculate the distance between each item, and its centroid\n",
    "        for i in iteration:\n",
    "            new_weight += distance(i[0], centroids[i[1]])\n",
    "        \n",
    "        # if the new weight we continue otherwise we return.\n",
    "        print(\"weight: {}, new weight: {}\".format(best_weight, new_weight))    \n",
    "        if new_weight < best_weight:\n",
    "            best_weight = new_weight\n",
    "            \n",
    "        else:\n",
    "            print(\"clusters found\")\n",
    "            return iteration\n",
    "\n",
    "        # recalculate centroids\n",
    "        centroids = move_centroids(k, iteration)\n",
    "        \n",
    "    \n",
    "k_means(k, data)"
   ]
  },
  {
   "cell_type": "code",
   "execution_count": null,
   "metadata": {},
   "outputs": [],
   "source": [
    "from sklearn.cluster import KMeans\n",
    "\n",
    "k = KMeans()\n",
    "clusters = k.fit(data)"
   ]
  },
  {
   "cell_type": "code",
   "execution_count": 12,
   "metadata": {},
   "outputs": [
    {
     "ename": "NameError",
     "evalue": "name 'clusters' is not defined",
     "output_type": "error",
     "traceback": [
      "\u001b[1;31m---------------------------------------------------------------------------\u001b[0m",
      "\u001b[1;31mNameError\u001b[0m                                 Traceback (most recent call last)",
      "Cell \u001b[1;32mIn[12], line 1\u001b[0m\n\u001b[1;32m----> 1\u001b[0m clusters\n",
      "\u001b[1;31mNameError\u001b[0m: name 'clusters' is not defined"
     ]
    }
   ],
   "source": [
    "clusters"
   ]
  },
  {
   "cell_type": "code",
   "execution_count": 13,
   "metadata": {},
   "outputs": [
    {
     "ename": "NameError",
     "evalue": "name 'clusters' is not defined",
     "output_type": "error",
     "traceback": [
      "\u001b[1;31m---------------------------------------------------------------------------\u001b[0m",
      "\u001b[1;31mNameError\u001b[0m                                 Traceback (most recent call last)",
      "Cell \u001b[1;32mIn[13], line 1\u001b[0m\n\u001b[1;32m----> 1\u001b[0m clusters\u001b[38;5;241m.\u001b[39mscore\n",
      "\u001b[1;31mNameError\u001b[0m: name 'clusters' is not defined"
     ]
    }
   ],
   "source": [
    "clusters.score"
   ]
  },
  {
   "cell_type": "code",
   "execution_count": null,
   "metadata": {
    "collapsed": true,
    "jupyter": {
     "outputs_hidden": true
    }
   },
   "outputs": [],
   "source": []
  },
  {
   "cell_type": "code",
   "execution_count": null,
   "metadata": {},
   "outputs": [],
   "source": []
  },
  {
   "cell_type": "code",
   "execution_count": null,
   "metadata": {},
   "outputs": [],
   "source": []
  }
 ],
 "metadata": {
  "kernelspec": {
   "display_name": "Python 3 (ipykernel)",
   "language": "python",
   "name": "python3"
  },
  "language_info": {
   "codemirror_mode": {
    "name": "ipython",
    "version": 3
   },
   "file_extension": ".py",
   "mimetype": "text/x-python",
   "name": "python",
   "nbconvert_exporter": "python",
   "pygments_lexer": "ipython3",
   "version": "3.12.7"
  }
 },
 "nbformat": 4,
 "nbformat_minor": 4
}
